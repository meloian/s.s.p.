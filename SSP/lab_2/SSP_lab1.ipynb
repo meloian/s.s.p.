{
 "cells": [
  {
   "cell_type": "markdown",
   "id": "c9593f5e",
   "metadata": {},
   "source": [
    "## meloian_lab2 "
   ]
  },
  {
   "cell_type": "code",
   "execution_count": 1,
   "id": "de6231b7",
   "metadata": {},
   "outputs": [],
   "source": [
    "import urllib.request\n",
    "import pandas as pd\n",
    "from datetime import datetime"
   ]
  },
  {
   "cell_type": "code",
   "execution_count": 2,
   "id": "eea0fee0",
   "metadata": {},
   "outputs": [],
   "source": [
    "NEW_INDEX = {1: 22, 2: 24, 3: 23, 4: 25, 5: 3, 6: 4, 7: 8, 8: 19, 9: 20, 10: 21, 11: 9, 12: 0, 13: 10, 14: 11, 15: 12, 16: 13, 17: 14, 18: 15, 19: 16, 20: -1, 21: 17, 22: 18, 23: 6, 24: 1, 25: 2, 26: 7, 27: 5}\n",
    "HEADERS = ['Year', 'Week', 'SMN', 'SMT', 'VCI', 'TCI', 'VHI', 'empty'] "
   ]
  },
  {
   "cell_type": "code",
   "execution_count": 3,
   "id": "30674a2f",
   "metadata": {},
   "outputs": [],
   "source": [
    "def download_data(province_id):\n",
    "    url = f\"https://www.star.nesdis.noaa.gov/smcd/emb/vci/VH/get_TS_admin.php?country=UKR&provinceID={province_id}&year1=1981&year2=2023&type=Mean\"\n",
    "    with urllib.request.urlopen(url) as wp:\n",
    "        text = wp.read()\n",
    "    now = datetime.now()\n",
    "    filename = f'NOAA_ID{province_id}_{now.strftime(\"%d%m%Y%H%M%S\")}.csv'\n",
    "    with open(filename, 'wb') as out:\n",
    "        out.write(text)\n",
    "    return filename"
   ]
  },
  {
   "cell_type": "code",
   "execution_count": 4,
   "id": "88654993",
   "metadata": {},
   "outputs": [],
   "source": [
    "def process_data(filename, province_id):\n",
    "    df = pd.read_csv(filename, header=1, names=HEADERS)\n",
    "    df.at[0, 'Year'] = df.at[1, 'Year']\n",
    "    df = df.drop([len(df)-1]).drop(df.loc[df['VHI'] == -1].index)\n",
    "    df['area'] = newIndex(province_id)\n",
    "    return df"
   ]
  },
  {
   "cell_type": "code",
   "execution_count": 17,
   "id": "613e1751",
   "metadata": {},
   "outputs": [],
   "source": [
    "def start(a=1, b=28, c=2, c1=3, d=2015):\n",
    "    all_data = []\n",
    "    for i in range(a, b):\n",
    "        filename = download_data(i)\n",
    "        df = process_data(filename, i)\n",
    "        all_data.append(df)\n",
    "\n",
    "    total_data = pd.concat(all_data)\n",
    "    for i in range(c, c1):\n",
    "        print(\"VHI\")\n",
    "        VHI(newIndex(i), d, total_data)\n",
    "        print(\"VHIAll\")\n",
    "        VHIAll(newIndex(i), total_data)\n",
    "    drought(total_data)"
   ]
  },
  {
   "cell_type": "code",
   "execution_count": 6,
   "id": "b4b25988",
   "metadata": {},
   "outputs": [],
   "source": [
    "def newIndex(a):\n",
    "    return NEW_INDEX[a] "
   ]
  },
  {
   "cell_type": "code",
   "execution_count": 7,
   "id": "cd3f8d6c",
   "metadata": {},
   "outputs": [],
   "source": [
    "def VHI(index, year, df):\n",
    "    vhi_data = df[(df[\"area\"] == index) & (df[\"Year\"] == str(year))]['VHI']\n",
    "    print(vhi_data)\n",
    "    min_v = vhi_data.min()\n",
    "    max_v = vhi_data.max()\n",
    "    print(min_v, max_v) "
   ]
  },
  {
   "cell_type": "code",
   "execution_count": 8,
   "id": "deafc4f3",
   "metadata": {},
   "outputs": [],
   "source": [
    "def VHIAll(index, df):\n",
    "    print(df.loc[df[\"area\"] == index, [\"VHI\", \"Year\"]])"
   ]
  },
  {
   "cell_type": "code",
   "execution_count": 9,
   "id": "d2fdd293",
   "metadata": {},
   "outputs": [],
   "source": [
    "def drought(df):\n",
    "    print(\"Посуха, інтенсивність якої від середньої до надзвичайної:\")\n",
    "    print(df[df.VHI <= 15])\n",
    "    print(\"Посуха, інтенсивність якої від помірної до надзвичайної:\")\n",
    "    print(df[df.VHI <= 35])\n",
    "    print(\"Стресові умови:\")\n",
    "    print(df[df.VHI <= 40])\n",
    "    print(\"Сприятливі умови:\")\n",
    "    print(df[df.VHI > 60])"
   ]
  },
  {
   "cell_type": "code",
   "execution_count": 18,
   "id": "23b89655",
   "metadata": {},
   "outputs": [
    {
     "name": "stdout",
     "output_type": "stream",
     "text": [
      "VHI\n",
      "1716    50.69\n",
      "1717    50.77\n",
      "1718    48.43\n",
      "1719    47.89\n",
      "1720    47.91\n",
      "1721    46.76\n",
      "1722    44.75\n",
      "1723    41.95\n",
      "1724    39.44\n",
      "1725    37.94\n",
      "1726    37.47\n",
      "1727    38.26\n",
      "1728    38.38\n",
      "1729    37.99\n",
      "1730    37.00\n",
      "1731    35.59\n",
      "1732    34.79\n",
      "1733    35.76\n",
      "1734    35.99\n",
      "1735    37.30\n",
      "1736    38.66\n",
      "1737    39.86\n",
      "1738    41.79\n",
      "1739    44.65\n",
      "1740    48.62\n",
      "1741    52.54\n",
      "1742    57.13\n",
      "1743    60.75\n",
      "1744    63.99\n",
      "1745    65.01\n",
      "1746    63.45\n",
      "1747    58.64\n",
      "1748    52.00\n",
      "1749    45.45\n",
      "1750    40.76\n",
      "1751    37.57\n",
      "1752    37.08\n",
      "1753    37.72\n",
      "1754    38.28\n",
      "1755    41.10\n",
      "1756    43.41\n",
      "1757    44.05\n",
      "1758    43.82\n",
      "1759    39.73\n",
      "1760    36.62\n",
      "1761    35.78\n",
      "1762    34.74\n",
      "1763    34.79\n",
      "1764    34.92\n",
      "1765    36.72\n",
      "1766    38.67\n",
      "1767    41.89\n",
      "Name: VHI, dtype: float64\n",
      "34.74 65.01\n",
      "VHIAll\n",
      "        VHI  Year\n",
      "0     43.10  1982\n",
      "1     40.67  1982\n",
      "2     39.30  1982\n",
      "3     38.19  1982\n",
      "4     39.88  1982\n",
      "...     ...   ...\n",
      "2176  34.27  2023\n",
      "2177  35.86  2023\n",
      "2178  35.55  2023\n",
      "2179  36.12  2023\n",
      "2180  35.83  2023\n",
      "\n",
      "[2131 rows x 2 columns]\n",
      "Посуха, інтенсивність якої від середньої до надзвичайної:\n",
      "      Year  Week    SMN     SMT    VCI   TCI    VHI  empty  area\n",
      "979   2000  44.0  0.101  280.84  19.37  9.91  14.64    NaN    22\n",
      "980   2000  45.0  0.077  278.50  14.21  9.43  11.82    NaN    22\n",
      "981   2000  46.0  0.064  276.98  14.52  7.10  10.81    NaN    22\n",
      "982   2000  47.0  0.052  275.49  14.50  6.86  10.68    NaN    22\n",
      "983   2000  48.0  0.044  274.00  15.46  9.14  12.30    NaN    22\n",
      "...    ...   ...    ...     ...    ...   ...    ...    ...   ...\n",
      "1332  2007  33.0  0.212  308.29  21.31  1.80  11.55    NaN     7\n",
      "1333  2007  34.0  0.201  307.86  20.12  1.65  10.88    NaN     7\n",
      "1334  2007  35.0  0.194  306.87  20.45  1.68  11.06    NaN     7\n",
      "1335  2007  36.0  0.187  305.11  22.32  1.77  12.05    NaN     7\n",
      "1336  2007  37.0  0.182  302.75  25.26  2.42  13.84    NaN     7\n",
      "\n",
      "[115 rows x 9 columns]\n",
      "Посуха, інтенсивність якої від помірної до надзвичайної:\n",
      "      Year  Week    SMN     SMT    VCI    TCI    VHI  empty  area\n",
      "3     1982   4.0  0.053  265.33  46.09  23.91  35.00    NaN    22\n",
      "4     1982   5.0  0.050  265.66  41.46  26.65  34.06    NaN    22\n",
      "5     1982   6.0  0.048  266.55  36.56  29.46  33.01    NaN    22\n",
      "6     1982   7.0  0.048  267.84  32.17  31.14  31.65    NaN    22\n",
      "7     1982   8.0  0.050  269.30  30.30  32.50  31.40    NaN    22\n",
      "...    ...   ...    ...     ...    ...    ...    ...    ...   ...\n",
      "2125  2022  46.0  0.098  270.63  22.39  40.26  31.32    NaN     5\n",
      "2126  2022  47.0  0.080  267.07  19.07  49.52  34.30    NaN     5\n",
      "2130  2022  51.0  0.056  260.77  20.28  48.45  34.36    NaN     5\n",
      "2131  2022  52.0  0.055  260.78  22.37  44.47  33.42    NaN     5\n",
      "2132  2023   1.0  0.055  261.29  24.66  41.18  32.92    NaN     5\n",
      "\n",
      "[7854 rows x 9 columns]\n",
      "Стресові умови:\n",
      "      Year  Week    SMN     SMT    VCI    TCI    VHI  empty  area\n",
      "1     1982   2.0  0.054  262.29  46.83  31.75  39.29    NaN    22\n",
      "2     1982   3.0  0.055  263.82  48.13  27.24  37.68    NaN    22\n",
      "3     1982   4.0  0.053  265.33  46.09  23.91  35.00    NaN    22\n",
      "4     1982   5.0  0.050  265.66  41.46  26.65  34.06    NaN    22\n",
      "5     1982   6.0  0.048  266.55  36.56  29.46  33.01    NaN    22\n",
      "...    ...   ...    ...     ...    ...    ...    ...    ...   ...\n",
      "2130  2022  51.0  0.056  260.77  20.28  48.45  34.36    NaN     5\n",
      "2131  2022  52.0  0.055  260.78  22.37  44.47  33.42    NaN     5\n",
      "2132  2023   1.0  0.055  261.29  24.66  41.18  32.92    NaN     5\n",
      "2133  2023   2.0  0.056  260.77  26.43  45.03  35.73    NaN     5\n",
      "2134  2023   3.0  0.061  260.77  32.86  46.72  39.79    NaN     5\n",
      "\n",
      "[15535 rows x 9 columns]\n",
      "Сприятливі умови:\n",
      "      Year  Week    SMN     SMT    VCI    TCI    VHI  empty  area\n",
      "27    1982  28.0  0.392  293.83  34.04  88.18  61.11    NaN    22\n",
      "28    1982  29.0  0.393  294.17  39.85  87.00  63.42    NaN    22\n",
      "29    1982  30.0  0.388  294.43  43.47  85.68  64.58    NaN    22\n",
      "30    1982  31.0  0.383  294.83  44.62  81.04  62.83    NaN    22\n",
      "31    1982  32.0  0.378  295.30  46.78  73.25  60.01    NaN    22\n",
      "...    ...   ...    ...     ...    ...    ...    ...    ...   ...\n",
      "2114  2022  35.0  0.419  292.98  70.78  49.72  60.25    NaN     5\n",
      "2160  2023  29.0  0.483  295.80  79.83  43.84  61.84    NaN     5\n",
      "2161  2023  30.0  0.484  295.96  83.11  44.29  63.70    NaN     5\n",
      "2162  2023  31.0  0.480  296.08  84.46  43.69  64.08    NaN     5\n",
      "2163  2023  32.0  0.474  296.43  84.85  38.37  61.61    NaN     5\n",
      "\n",
      "[7452 rows x 9 columns]\n"
     ]
    }
   ],
   "source": [
    "start() "
   ]
  },
  {
   "cell_type": "code",
   "execution_count": null,
   "id": "9e6e8956",
   "metadata": {},
   "outputs": [],
   "source": []
  },
  {
   "cell_type": "code",
   "execution_count": null,
   "id": "df5356a7",
   "metadata": {},
   "outputs": [],
   "source": []
  }
 ],
 "metadata": {
  "kernelspec": {
   "display_name": "Python 3 (ipykernel)",
   "language": "python",
   "name": "python3"
  },
  "language_info": {
   "codemirror_mode": {
    "name": "ipython",
    "version": 3
   },
   "file_extension": ".py",
   "mimetype": "text/x-python",
   "name": "python",
   "nbconvert_exporter": "python",
   "pygments_lexer": "ipython3",
   "version": "3.11.5"
  }
 },
 "nbformat": 4,
 "nbformat_minor": 5
}
